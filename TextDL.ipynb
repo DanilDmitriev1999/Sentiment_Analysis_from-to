{
  "nbformat": 4,
  "nbformat_minor": 0,
  "metadata": {
    "colab": {
      "name": "TextDL.ipynb",
      "provenance": [],
      "collapsed_sections": [
        "amVb-widc6Uv"
      ]
    },
    "kernelspec": {
      "name": "python3",
      "display_name": "Python 3"
    },
    "accelerator": "GPU"
  },
  "cells": [
    {
      "cell_type": "markdown",
      "metadata": {
        "id": "xYV0rUhJlRmg",
        "colab_type": "text"
      },
      "source": [
        "[![Open In Colab](https://colab.research.google.com/assets/colab-badge.svg)](https://drive.google.com/open?id=1yz04kc2zstt1SlyamzuyWF_4DjPQE0Ta)"
      ]
    },
    {
      "cell_type": "markdown",
      "metadata": {
        "id": "TR_WWQDYijg-",
        "colab_type": "text"
      },
      "source": [
        "# Техническая часть"
      ]
    },
    {
      "cell_type": "code",
      "metadata": {
        "id": "jfdxPRMiWE9S",
        "colab_type": "code",
        "colab": {}
      },
      "source": [
        "!pip install -U -q PyDrive\n",
        "from pydrive.auth import GoogleAuth\n",
        "from pydrive.drive import GoogleDrive\n",
        "from google.colab import auth\n",
        "from oauth2client.client import GoogleCredentials\n",
        "\n",
        "# 1. Authenticate and create the PyDrive client.\n",
        "auth.authenticate_user()\n",
        "gauth = GoogleAuth()\n",
        "gauth.credentials = GoogleCredentials.get_application_default()\n",
        "drive = GoogleDrive(gauth)\n",
        "\n",
        "train_text_dwld = drive.CreateFile({'id':'1I9vf6z80Pjs4oou2WJE728s4HpiFR1qm'})\n",
        "train_text_dwld.GetContentFile('train.ft.txt.bz2')"
      ],
      "execution_count": 0,
      "outputs": []
    },
    {
      "cell_type": "code",
      "metadata": {
        "id": "dSrw_8fdchlc",
        "colab_type": "code",
        "colab": {}
      },
      "source": [
        "import numpy as np\n",
        "import pandas as pd\n",
        "import matplotlib.pyplot as plt\n",
        "\n",
        "from sklearn.model_selection import train_test_split\n",
        "from sklearn.metrics import accuracy_score\n",
        "\n",
        "import warnings\n",
        "warnings.filterwarnings(\"ignore\")\n",
        "\n",
        "import bz2\n",
        "import re"
      ],
      "execution_count": 0,
      "outputs": []
    },
    {
      "cell_type": "code",
      "metadata": {
        "id": "8_Olq2kjdjmh",
        "colab_type": "code",
        "colab": {}
      },
      "source": [
        "def get_labels_and_texts(file):\n",
        "    labels = []\n",
        "    texts = []\n",
        "    count = 0\n",
        "    for line in bz2.BZ2File(file):\n",
        "        x = line.decode(\"utf-8\")\n",
        "        if len(x[10:].strip().split(' ')) < 100:\n",
        "            texts.append(x[10:].strip())\n",
        "            labels.append(int(x[9]) - 1)\n",
        "            count +=1\n",
        "\n",
        "        if count > 500000:\n",
        "            return labels, texts"
      ],
      "execution_count": 0,
      "outputs": []
    },
    {
      "cell_type": "code",
      "metadata": {
        "id": "EHbkP2VAjV8x",
        "colab_type": "code",
        "colab": {}
      },
      "source": [
        "def preprocess_text(text):\n",
        "    text = re.sub(r'[^A-Za-z0-9]+', ' ', text)\n",
        "    text = re.sub(r'https?:/\\/\\S+', ' ', text)\n",
        "    return text.lower()"
      ],
      "execution_count": 0,
      "outputs": []
    },
    {
      "cell_type": "markdown",
      "metadata": {
        "id": "eMNpAgNRdpLs",
        "colab_type": "text"
      },
      "source": [
        "# Что там с данными"
      ]
    },
    {
      "cell_type": "code",
      "metadata": {
        "id": "tWt_myQWdsWN",
        "colab_type": "code",
        "colab": {}
      },
      "source": [
        "train_labels, train_texts = get_labels_and_texts('train.ft.txt.bz2')"
      ],
      "execution_count": 0,
      "outputs": []
    },
    {
      "cell_type": "code",
      "metadata": {
        "id": "FyWLDXSFjO_R",
        "colab_type": "code",
        "colab": {}
      },
      "source": [
        "train_texts = [preprocess_text(t) for t in train_texts]\n",
        "assert len(train_labels) == len(train_texts)"
      ],
      "execution_count": 0,
      "outputs": []
    },
    {
      "cell_type": "code",
      "metadata": {
        "id": "RG_wsRbY1UHi",
        "colab_type": "code",
        "outputId": "0bfdb7cc-7904-4273-9095-c36ca6dae486",
        "colab": {
          "base_uri": "https://localhost:8080/",
          "height": 642
        }
      },
      "source": [
        "text = [i.split(' ') for i in train_texts]\n",
        "sentence_lengths = [len(tokens) for tokens in text]\n",
        "# порисуем\n",
        "fig = plt.figure(figsize=(10, 10)) \n",
        "plt.xlabel('Длина предложений')\n",
        "plt.ylabel('Кол-во предложений')\n",
        "plt.title('Распределение слов')\n",
        "plt.hist(sentence_lengths)\n",
        "plt.show()"
      ],
      "execution_count": 7,
      "outputs": [
        {
          "output_type": "display_data",
          "data": {
            "image/png": "[encoded data removed]",
            "text/plain": [
              "<Figure size 720x720 with 1 Axes>"
            ]
          },
          "metadata": {
            "tags": []
          }
        }
      ]
    },
    {
      "cell_type": "code",
      "metadata": {
        "id": "cFPvsRyXx5Wb",
        "colab_type": "code",
        "outputId": "989278dc-0a53-4e76-9a4c-735d38007fb7",
        "colab": {
          "base_uri": "https://localhost:8080/",
          "height": 221
        }
      },
      "source": [
        "dt = pd.DataFrame(list(zip(train_labels, train_texts)), columns =['labels', 'texts'])\n",
        "dt.head()"
      ],
      "execution_count": 8,
      "outputs": [
        {
          "output_type": "execute_result",
          "data": {
            "text/html": [
              "<div>\n",
              "<style scoped>\n",
              "    .dataframe tbody tr th:only-of-type {\n",
              "        vertical-align: middle;\n",
              "    }\n",
              "\n",
              "    .dataframe tbody tr th {\n",
              "        vertical-align: top;\n",
              "    }\n",
              "\n",
              "    .dataframe thead th {\n",
              "        text-align: right;\n",
              "    }\n",
              "</style>\n",
              "<table border=\"1\" class=\"dataframe\">\n",
              "  <thead>\n",
              "    <tr style=\"text-align: right;\">\n",
              "      <th></th>\n",
              "      <th>labels</th>\n",
              "      <th>texts</th>\n",
              "    </tr>\n",
              "  </thead>\n",
              "  <tbody>\n",
              "    <tr>\n",
              "      <th>0</th>\n",
              "      <td>1</td>\n",
              "      <td>stuning even for the non gamer this sound trac...</td>\n",
              "    </tr>\n",
              "    <tr>\n",
              "      <th>1</th>\n",
              "      <td>1</td>\n",
              "      <td>the best soundtrack ever to anything i m readi...</td>\n",
              "    </tr>\n",
              "    <tr>\n",
              "      <th>2</th>\n",
              "      <td>1</td>\n",
              "      <td>remember pull your jaw off the floor after hea...</td>\n",
              "    </tr>\n",
              "    <tr>\n",
              "      <th>3</th>\n",
              "      <td>1</td>\n",
              "      <td>whispers of the wicked saints this was a easy ...</td>\n",
              "    </tr>\n",
              "    <tr>\n",
              "      <th>4</th>\n",
              "      <td>0</td>\n",
              "      <td>the worst a complete waste of time typographic...</td>\n",
              "    </tr>\n",
              "  </tbody>\n",
              "</table>\n",
              "</div>"
            ],
            "text/plain": [
              "   labels                                              texts\n",
              "0       1  stuning even for the non gamer this sound trac...\n",
              "1       1  the best soundtrack ever to anything i m readi...\n",
              "2       1  remember pull your jaw off the floor after hea...\n",
              "3       1  whispers of the wicked saints this was a easy ...\n",
              "4       0  the worst a complete waste of time typographic..."
            ]
          },
          "metadata": {
            "tags": []
          },
          "execution_count": 8
        }
      ]
    },
    {
      "cell_type": "code",
      "metadata": {
        "id": "Ju4O8yUS14sL",
        "colab_type": "code",
        "outputId": "bc1f3035-6df4-4a5e-8bd0-29a582251fbf",
        "colab": {
          "base_uri": "https://localhost:8080/",
          "height": 87
        }
      },
      "source": [
        "dt['labels'].value_counts()"
      ],
      "execution_count": 9,
      "outputs": [
        {
          "output_type": "execute_result",
          "data": {
            "text/plain": [
              "1    260585\n",
              "0    239416\n",
              "Name: labels, dtype: int64"
            ]
          },
          "metadata": {
            "tags": []
          },
          "execution_count": 9
        }
      ]
    },
    {
      "cell_type": "markdown",
      "metadata": {
        "id": "0LQCD93DmDs9",
        "colab_type": "text"
      },
      "source": [
        "Классы сбалансированы, а это значит, можно и accuracy использовать для оценки точности алгоритма. "
      ]
    },
    {
      "cell_type": "code",
      "metadata": {
        "id": "QkiRPBZ9kInX",
        "colab_type": "code",
        "colab": {}
      },
      "source": [
        "X_train, X_test, y_train, y_test = train_test_split(train_texts, train_labels,\n",
        "                                                    test_size=0.3, random_state=40)"
      ],
      "execution_count": 0,
      "outputs": []
    },
    {
      "cell_type": "markdown",
      "metadata": {
        "id": "amVb-widc6Uv",
        "colab_type": "text"
      },
      "source": [
        "# Классика"
      ]
    },
    {
      "cell_type": "code",
      "metadata": {
        "id": "9gizudYjeE5u",
        "colab_type": "code",
        "colab": {}
      },
      "source": [
        "from sklearn.feature_extraction.text import TfidfVectorizer\n",
        "from sklearn.metrics import accuracy_score, f1_score\n",
        "from sklearn.linear_model import LogisticRegression\n",
        "from sklearn.pipeline import Pipeline"
      ],
      "execution_count": 0,
      "outputs": []
    },
    {
      "cell_type": "markdown",
      "metadata": {
        "id": "iIz5-Rm9dNMk",
        "colab_type": "text"
      },
      "source": [
        "## BaseLine: Tf-Idf + LogReg"
      ]
    },
    {
      "cell_type": "markdown",
      "metadata": {
        "id": "SfB5PklSo4cK",
        "colab_type": "text"
      },
      "source": [
        "### TF-IDF"
      ]
    },
    {
      "cell_type": "markdown",
      "metadata": {
        "id": "bvz-rXk9o8o_",
        "colab_type": "text"
      },
      "source": [
        "**TF-IDF** - это term frequency-inverse document frequency или, ежели на великом и могучем, частотность терминов-обратная частотность документов. Ага, лично мне было очень трудно просто принять это название. \n",
        "\n",
        "Если возникает вопрос, зачем он нужен, то ответ прост - компьютер не понимает слова, а понимает только цифры. Надо из слов сделать цифры. Вся идея, это уже потом захотели еще и контекст сохранять, но об этом позже. \n",
        "\n",
        "Вообще, простыми словами это простой и удобный способ оценить важность термина для какого-либо документа относительно всех остальных документов. Принцип такой — если слово встречается в каком-либо документе часто, при этом встречаясь редко во всех остальных документах — это слово имеет большую значимость для того самого документа."
      ]
    },
    {
      "cell_type": "markdown",
      "metadata": {
        "id": "aQhDSjpSphiv",
        "colab_type": "text"
      },
      "source": [
        "TF-IDF, как бы глупо не звучало, состоит из TF и IDF, точнее их произведение. А теперь подробнее про каждый элемент:\n",
        "\n",
        "**TF слова а** - (Количество раз, когда слово а встретился в тексте / количество всех слов в тексте)\n",
        "\n",
        "**IDF слова а** - Log(Общее количество документов / Количество документов, в которых встречается слово а) \n",
        "\n",
        "Считается как-нибудь так:\n",
        "$$\\text{idf}(t) = \\text{log}\\frac{1 + n_a}{1 + n_{a(t)}} + 1$$\n",
        "где $n_a$ - число всех документов, а $n_{a(t)}$ - число документов со словом `a`.\n",
        "\n",
        "\n",
        "А потом перемножаем и оп у нас уже есть мера важности слова. "
      ]
    },
    {
      "cell_type": "code",
      "metadata": {
        "id": "_iep7o4xcoRT",
        "colab_type": "code",
        "colab": {}
      },
      "source": [
        "def tfidf(data):\n",
        "    tfidf_vectorizer = TfidfVectorizer(analyzer = \"word\")\n",
        "\n",
        "    train = tfidf_vectorizer.fit_transform(data)\n",
        "\n",
        "    return train, tfidf_vectorizer"
      ],
      "execution_count": 0,
      "outputs": []
    },
    {
      "cell_type": "code",
      "metadata": {
        "id": "ErKQcvqhkARk",
        "colab_type": "code",
        "colab": {}
      },
      "source": [
        "X_train_tfidf, tfidf_vectorizer = tfidf(X_train)\n",
        "X_test_tfidf = tfidf_vectorizer.transform(X_test)"
      ],
      "execution_count": 0,
      "outputs": []
    },
    {
      "cell_type": "code",
      "metadata": {
        "id": "xB6fh4U_kcXl",
        "colab_type": "code",
        "outputId": "4bcfe763-35ec-4a36-d7d6-9faea9a91899",
        "colab": {
          "base_uri": "https://localhost:8080/",
          "height": 54
        }
      },
      "source": [
        "lr = LogisticRegression()\n",
        "lr.fit(X_train_tfidf, y_train)\n",
        "pred = lr.predict(X_test_tfidf)\n",
        "\n",
        "print('Результат (f-мера): {}'.format(f1_score(y_test, pred)))"
      ],
      "execution_count": 20,
      "outputs": [
        {
          "output_type": "stream",
          "text": [
            "Результат (f-мера): 0.9147515547698687\n"
          ],
          "name": "stdout"
        }
      ]
    },
    {
      "cell_type": "markdown",
      "metadata": {
        "id": "zOsIEjIOmoKO",
        "colab_type": "text"
      },
      "source": [
        "А можно так:"
      ]
    },
    {
      "cell_type": "code",
      "metadata": {
        "id": "n2C3g5KwmVni",
        "colab_type": "code",
        "colab": {
          "base_uri": "https://localhost:8080/",
          "height": 54
        },
        "outputId": "36a6a9a9-879f-476b-cf52-8eb3ea64c637"
      },
      "source": [
        "vectorizer = TfidfVectorizer(analyzer='word')\n",
        "classifier = LogisticRegression()\n",
        "\n",
        "model = Pipeline([\n",
        "    ('vectorizer', vectorizer),\n",
        "    ('classifier', classifier)\n",
        "]) \n",
        "\n",
        "model.fit(X_train, y_train)\n",
        "pred = model.predict(X_test)\n",
        "print('accuracy: ', accuracy_score(y_test, pred))"
      ],
      "execution_count": 21,
      "outputs": [
        {
          "output_type": "stream",
          "text": [
            "accuracy:  0.9106272624849168\n"
          ],
          "name": "stdout"
        }
      ]
    },
    {
      "cell_type": "markdown",
      "metadata": {
        "id": "hK-BSmx1lNnW",
        "colab_type": "text"
      },
      "source": [
        "## Добавим n-gramm"
      ]
    },
    {
      "cell_type": "markdown",
      "metadata": {
        "id": "lklqZ6Kttcuo",
        "colab_type": "text"
      },
      "source": [
        "Разберемся, что такое n-gramm. Например, слово `кружка` мы можем представить в виде такой последовательности триграмм:\n",
        "\n",
        "`##к #кр кру руж ужк жка ка# а##`"
      ]
    },
    {
      "cell_type": "code",
      "metadata": {
        "id": "cvXrCLFTlGsO",
        "colab_type": "code",
        "outputId": "f44e7e0e-33a3-426b-f22b-1e08e8efd605",
        "colab": {
          "base_uri": "https://localhost:8080/",
          "height": 54
        }
      },
      "source": [
        "vectorizer = TfidfVectorizer(analyzer='word', ngram_range=(1, 2))\n",
        "classifier = LogisticRegression()\n",
        "\n",
        "model = Pipeline([\n",
        "    ('vectorizer', vectorizer),\n",
        "    ('classifier', classifier)\n",
        "]) \n",
        "\n",
        "model.fit(X_train, y_train)\n",
        "pred = model.predict(X_test)\n",
        "print('accuracy: ', accuracy_score(y_test, pred))"
      ],
      "execution_count": 22,
      "outputs": [
        {
          "output_type": "stream",
          "text": [
            "accuracy:  0.9278271478190145\n"
          ],
          "name": "stdout"
        }
      ]
    },
    {
      "cell_type": "markdown",
      "metadata": {
        "id": "QU5dkeHKky8v",
        "colab_type": "text"
      },
      "source": [
        "## TODO: W2V + tf-idf"
      ]
    },
    {
      "cell_type": "code",
      "metadata": {
        "id": "_iA1qQRfk4Z7",
        "colab_type": "code",
        "colab": {}
      },
      "source": [
        ""
      ],
      "execution_count": 0,
      "outputs": []
    },
    {
      "cell_type": "markdown",
      "metadata": {
        "id": "f4E3sSbMf-jj",
        "colab_type": "text"
      },
      "source": [
        "## Предсказание"
      ]
    },
    {
      "cell_type": "code",
      "metadata": {
        "id": "gqKfG6OjgECs",
        "colab_type": "code",
        "colab": {}
      },
      "source": [
        "def user_predict(text, model=model):\n",
        "    predict = model.predict([text])\n",
        "    predict_pr = model.predict_proba([text])\n",
        "    if predict == 0:\n",
        "        return ('Это негативное высказывания с вероятностью: {:.2f}%'.format(predict_pr[0][0]*100))\n",
        "    if predict == 1:\n",
        "        return ('Это положительное высказывания с вероятностью: {:.2f}%'.format(predict_pr[0][1]*100))\n",
        "    \n",
        "    return predict"
      ],
      "execution_count": 0,
      "outputs": []
    },
    {
      "cell_type": "code",
      "metadata": {
        "id": "FKjvUSbLgD3q",
        "colab_type": "code",
        "outputId": "abd98f75-ffb7-4a5a-bef1-080d3a6db731",
        "colab": {
          "base_uri": "https://localhost:8080/",
          "height": 54
        }
      },
      "source": [
        "user_predict('ah shit here we go again')"
      ],
      "execution_count": 32,
      "outputs": [
        {
          "output_type": "execute_result",
          "data": {
            "text/plain": [
              "'Это негативное высказывания с вероятностью: 58.04%'"
            ]
          },
          "metadata": {
            "tags": []
          },
          "execution_count": 32
        }
      ]
    },
    {
      "cell_type": "code",
      "metadata": {
        "id": "4XHI6QzJkUwo",
        "colab_type": "code",
        "outputId": "729fa019-3a4d-4667-dbc6-08584df6ab83",
        "colab": {
          "base_uri": "https://localhost:8080/",
          "height": 54
        }
      },
      "source": [
        "user_predict('shut up and take my money')"
      ],
      "execution_count": 33,
      "outputs": [
        {
          "output_type": "execute_result",
          "data": {
            "text/plain": [
              "'Это негативное высказывания с вероятностью: 90.28%'"
            ]
          },
          "metadata": {
            "tags": []
          },
          "execution_count": 33
        }
      ]
    },
    {
      "cell_type": "markdown",
      "metadata": {
        "id": "8Qqakn2Hl31y",
        "colab_type": "text"
      },
      "source": [
        "# Диип Лёрнинг"
      ]
    },
    {
      "cell_type": "markdown",
      "metadata": {
        "id": "eBYh0NnRBUdZ",
        "colab_type": "text"
      },
      "source": [
        "![хехехе](https://raw.githubusercontent.com/DanilDmitriev1999/Sentiment_Analysis_from-to/master/img/meme.png)\n",
        "\n",
        "Люблю эту картинку"
      ]
    },
    {
      "cell_type": "code",
      "metadata": {
        "id": "C9-bi_1ZfuY5",
        "colab_type": "code",
        "colab": {}
      },
      "source": [
        "import torch\n",
        "import torch.nn as nn\n",
        "import torch.optim as optim\n",
        "import torch.nn.functional as F\n",
        "from torch.utils.data import TensorDataset, DataLoader\n",
        "\n",
        "from collections import Counter"
      ],
      "execution_count": 0,
      "outputs": []
    },
    {
      "cell_type": "code",
      "metadata": {
        "id": "GW-SglHlsRAm",
        "colab_type": "code",
        "outputId": "165fae36-b053-4425-ba5d-5915e27dc9fb",
        "colab": {
          "base_uri": "https://localhost:8080/",
          "height": 71
        }
      },
      "source": [
        "device = torch.device('cuda:0' if torch.cuda.is_available() else 'cpu')\n",
        "if device == 'cpu':\n",
        "    print('cpu')\n",
        "else:\n",
        "    n_gpu = torch.cuda.device_count()\n",
        "    print(torch.cuda.get_device_name(0))\n",
        "is_cuda = torch.cuda.is_available()\n",
        "print(\"Cuda Status on system is {}\".format(is_cuda))"
      ],
      "execution_count": 30,
      "outputs": [
        {
          "output_type": "stream",
          "text": [
            "Tesla P4\n",
            "Cuda Status on system is True\n"
          ],
          "name": "stdout"
        }
      ]
    },
    {
      "cell_type": "code",
      "metadata": {
        "id": "3EzbtbXpyBln",
        "colab_type": "code",
        "colab": {}
      },
      "source": [
        "words = Counter() \n",
        "for i, sentence in enumerate(text):\n",
        "    text[i] = []\n",
        "    for word in sentence:\n",
        "        words.update([word]) \n",
        "        text[i].append(word)\n"
      ],
      "execution_count": 0,
      "outputs": []
    },
    {
      "cell_type": "code",
      "metadata": {
        "id": "LrTPxMsszBNn",
        "colab_type": "code",
        "colab": {}
      },
      "source": [
        "# Удаление слов, которые появляются меньше 5 раз\n",
        "words = {k:v for k,v in words.items() if v>5}\n",
        "# Сортировка слов по количеству появлений, причем наиболее распространенным словом является первое\n",
        "words = sorted(words, key=words.get, reverse=True)\n",
        "# Добавление PAD-ов\n",
        "words = ['_PAD','_UNK'] + words\n",
        "# Словари для хранения слов в индексных сопоставлениях и наоборот\n",
        "word2idx = {o:i for i,o in enumerate(words)}\n",
        "idx2word = {i:o for i,o in enumerate(words)}"
      ],
      "execution_count": 0,
      "outputs": []
    },
    {
      "cell_type": "code",
      "metadata": {
        "id": "NQu9H43W2L0v",
        "colab_type": "code",
        "colab": {}
      },
      "source": [
        "for i, sentence in enumerate(text):\n",
        "    # Поиск словаря сопоставления и присвоение индекса соответствующим словам\n",
        "    text[i] = [word2idx[word] if word in word2idx else 0 for word in sentence]"
      ],
      "execution_count": 0,
      "outputs": []
    },
    {
      "cell_type": "code",
      "metadata": {
        "id": "I7UCxUPX2TZR",
        "colab_type": "code",
        "colab": {}
      },
      "source": [
        "# Определение функции, которая либо сокращает предложения, либо дополняет предложения с 0 до фиксированной длины\n",
        "def pad_input(sentences, seq_len):\n",
        "    features = np.zeros((len(sentences), seq_len),dtype=int)\n",
        "    for ii, review in enumerate(sentences):\n",
        "        if len(review) != 0:\n",
        "            features[ii, -len(review):] = np.array(review)[:seq_len]\n",
        "    return features"
      ],
      "execution_count": 0,
      "outputs": []
    },
    {
      "cell_type": "code",
      "metadata": {
        "id": "1eJL-jvm2rx2",
        "colab_type": "code",
        "colab": {}
      },
      "source": [
        "seq_len = 200 #Длина, до которой предложения будут дополнены / сокращены\n",
        "\n",
        "train_sentences = pad_input(text, seq_len)\n",
        "train_labels = np.array(train_labels)"
      ],
      "execution_count": 0,
      "outputs": []
    },
    {
      "cell_type": "code",
      "metadata": {
        "id": "TIfW0YB7222X",
        "colab_type": "code",
        "colab": {}
      },
      "source": [
        "X_train, X_test, y_train, y_test = train_test_split(train_sentences, train_labels,\n",
        "                                                    test_size=0.3, random_state=40)\n",
        "\n",
        "X_train, X_val, y_train, y_val = train_test_split(X_train, y_train,\n",
        "                                                    test_size=0.1, random_state=40)"
      ],
      "execution_count": 0,
      "outputs": []
    },
    {
      "cell_type": "code",
      "metadata": {
        "id": "KREOd0zM3G_j",
        "colab_type": "code",
        "colab": {}
      },
      "source": [
        "train_data = TensorDataset(torch.from_numpy(X_train), torch.from_numpy(y_train))\n",
        "val_data = TensorDataset(torch.from_numpy(X_val), torch.from_numpy(y_val))\n",
        "test_data = TensorDataset(torch.from_numpy(X_test), torch.from_numpy(y_test))\n",
        "\n",
        "batch_size = 128\n",
        "\n",
        "train_loader = DataLoader(train_data, shuffle=True, batch_size=batch_size, drop_last=True, )\n",
        "val_loader = DataLoader(val_data, shuffle=True, batch_size=batch_size, drop_last=True)\n",
        "test_loader = DataLoader(test_data, shuffle=True, batch_size=batch_size, drop_last=True)\n",
        "\n",
        "# del X_train, y_train, X_val, y_val, X_test, y_test"
      ],
      "execution_count": 0,
      "outputs": []
    },
    {
      "cell_type": "code",
      "metadata": {
        "id": "ldb7jAnZ3QOk",
        "colab_type": "code",
        "colab": {}
      },
      "source": [
        "dataiter = iter(train_loader)"
      ],
      "execution_count": 0,
      "outputs": []
    },
    {
      "cell_type": "code",
      "metadata": {
        "id": "W-vWxxL35vwb",
        "colab_type": "code",
        "outputId": "bd895383-c761-4dac-f199-294eff46dc9d",
        "colab": {
          "base_uri": "https://localhost:8080/",
          "height": 54
        }
      },
      "source": [
        "sample_x, sample_y = dataiter.next()\n",
        "\n",
        "print(sample_x.shape, sample_y.shape)"
      ],
      "execution_count": 42,
      "outputs": [
        {
          "output_type": "stream",
          "text": [
            "torch.Size([128, 200]) torch.Size([128])\n"
          ],
          "name": "stdout"
        }
      ]
    },
    {
      "cell_type": "code",
      "metadata": {
        "id": "WyCZz4S4HrA8",
        "colab_type": "code",
        "outputId": "4553f636-e623-4e01-cac0-3d14e69aa5a2",
        "colab": {
          "base_uri": "https://localhost:8080/",
          "height": 54
        }
      },
      "source": [
        "dataiter_val = iter(val_loader)\n",
        "sample_x, sample_y = dataiter_val.next()\n",
        "\n",
        "print(sample_x.shape, sample_y.shape)"
      ],
      "execution_count": 43,
      "outputs": [
        {
          "output_type": "stream",
          "text": [
            "torch.Size([128, 200]) torch.Size([128])\n"
          ],
          "name": "stdout"
        }
      ]
    },
    {
      "cell_type": "markdown",
      "metadata": {
        "id": "pZ42WTZcpeSK",
        "colab_type": "text"
      },
      "source": [
        "## RNN"
      ]
    },
    {
      "cell_type": "markdown",
      "metadata": {
        "id": "OigaQkqMBnux",
        "colab_type": "text"
      },
      "source": [
        "![rnn](https://raw.githubusercontent.com/DanilDmitriev1999/Sentiment_Analysis_from-to/master/img/rnn1.png)"
      ]
    },
    {
      "cell_type": "code",
      "metadata": {
        "id": "zLOpkd0f3qhN",
        "colab_type": "code",
        "colab": {}
      },
      "source": [
        "class RNN(nn.Module):\n",
        "    def __init__(self, input_dim, embedding_dim, hidden_dim, output_dim):\n",
        "        \n",
        "        super().__init__()\n",
        "        self.hidden_dim = hidden_dim\n",
        "\n",
        "        self.embedding = nn.Embedding(input_dim, embedding_dim)\n",
        "        self.rnn = nn.RNN(embedding_dim, hidden_dim)\n",
        "        self.lin = nn.Linear(hidden_dim, output_dim)\n",
        "        self.sigmoid = nn.Sigmoid()\n",
        "        \n",
        "    def forward(self, text):\n",
        "        batch_size = text.size(0)\n",
        "        text = text.long()\n",
        "        embedded = self.embedding(text)\n",
        "        \n",
        "        output, hidden = self.rnn(embedded)\n",
        "        output = output.contiguous()\n",
        "        \n",
        "        output = self.lin(output)\n",
        "        output = self.sigmoid(output)\n",
        "        \n",
        "        output = output.view(batch_size, -1)\n",
        "        output = output[:,-1]\n",
        "        return output"
      ],
      "execution_count": 0,
      "outputs": []
    },
    {
      "cell_type": "code",
      "metadata": {
        "id": "r6eoxz6i3xyq",
        "colab_type": "code",
        "outputId": "60603201-ce07-4579-dcc9-4ae5fbf0c50d",
        "colab": {
          "base_uri": "https://localhost:8080/",
          "height": 137
        }
      },
      "source": [
        "INPUT_DIM = len(word2idx) + 1\n",
        "EMBEDDING_DIM = 200\n",
        "HIDDEN_DIM = 256\n",
        "OUTPUT_DIM = 1\n",
        "\n",
        "model = RNN(INPUT_DIM, EMBEDDING_DIM, HIDDEN_DIM, OUTPUT_DIM)\n",
        "model"
      ],
      "execution_count": 49,
      "outputs": [
        {
          "output_type": "execute_result",
          "data": {
            "text/plain": [
              "RNN(\n",
              "  (embedding): Embedding(51170, 200)\n",
              "  (rnn): RNN(200, 256)\n",
              "  (lin): Linear(in_features=256, out_features=1, bias=True)\n",
              "  (sigmoid): Sigmoid()\n",
              ")"
            ]
          },
          "metadata": {
            "tags": []
          },
          "execution_count": 49
        }
      ]
    },
    {
      "cell_type": "code",
      "metadata": {
        "id": "C9Soeif-4Huo",
        "colab_type": "code",
        "outputId": "9039d52b-1236-4cf3-be4b-a32bd87f8be6",
        "colab": {
          "base_uri": "https://localhost:8080/",
          "height": 54
        }
      },
      "source": [
        "def count_parameters(model):\n",
        "    return sum(p.numel() for p in model.parameters() if p.requires_grad)\n",
        "\n",
        "print(f'Модель имеет {count_parameters(model):,} параметров')"
      ],
      "execution_count": 50,
      "outputs": [
        {
          "output_type": "stream",
          "text": [
            "Модель имеет 10,351,505 параметров\n"
          ],
          "name": "stdout"
        }
      ]
    },
    {
      "cell_type": "code",
      "metadata": {
        "id": "kM96i38k4P9N",
        "colab_type": "code",
        "colab": {}
      },
      "source": [
        "optimizer = optim.Adam(model.parameters(), lr=0.001)\n",
        "criterion = nn.BCELoss()\n",
        "\n",
        "#model = model.to(device)\n",
        "#criterion = criterion.to(device)"
      ],
      "execution_count": 0,
      "outputs": []
    },
    {
      "cell_type": "code",
      "metadata": {
        "id": "LU4IMHoy4ed5",
        "colab_type": "code",
        "outputId": "dbc14b98-b9fb-4908-8a72-dde740cc1887",
        "colab": {
          "base_uri": "https://localhost:8080/",
          "height": 535
        }
      },
      "source": [
        "epochs = 2\n",
        "counter = 0\n",
        "print_every = 100\n",
        "clip = 5\n",
        "valid_loss_min = np.Inf\n",
        "\n",
        "model.train()\n",
        "for i in range(epochs):\n",
        "    for inputs, labels in train_loader:\n",
        "        counter += 1\n",
        "        inputs, labels = inputs, labels\n",
        "        model.zero_grad()\n",
        "        output = model(inputs)\n",
        "        loss = criterion(output, labels.float())\n",
        "        loss.backward()\n",
        "        nn.utils.clip_grad_norm_(model.parameters(), clip)\n",
        "        optimizer.step()\n",
        "        if counter%print_every == 0:\n",
        "            val_losses = []\n",
        "            model.eval()\n",
        "            for inp, lab in val_loader:\n",
        "                inp, lab = inp, lab\n",
        "                out = model(inp)\n",
        "                #print(out.shape)\n",
        "                val_loss = criterion(out, lab.float())\n",
        "                val_losses.append(val_loss.item())\n",
        "                \n",
        "            model.train()\n",
        "            print(\"Epoch: {}/{}...\".format(i+1, epochs),\n",
        "                  \"Step: {}...\".format(counter),\n",
        "                  \"Loss: {:.6f}...\".format(loss.item()),\n",
        "                  \"Val Loss: {:.6f}\".format(np.mean(val_losses)))"
      ],
      "execution_count": 52,
      "outputs": [
        {
          "output_type": "stream",
          "text": [
            "Epoch: 1/2... Step: 100... Loss: 0.707362... Val Loss: 0.693782\n",
            "Epoch: 1/2... Step: 200... Loss: 0.691654... Val Loss: 0.692219\n",
            "Epoch: 1/2... Step: 300... Loss: 0.686343... Val Loss: 0.691815\n",
            "Epoch: 1/2... Step: 400... Loss: 0.679715... Val Loss: 0.693115\n",
            "Epoch: 1/2... Step: 500... Loss: 0.693023... Val Loss: 0.691440\n",
            "Epoch: 1/2... Step: 600... Loss: 0.699584... Val Loss: 0.691679\n",
            "Epoch: 1/2... Step: 700... Loss: 0.704016... Val Loss: 0.692860\n",
            "Epoch: 1/2... Step: 800... Loss: 0.697955... Val Loss: 0.698858\n",
            "Epoch: 1/2... Step: 900... Loss: 0.714311... Val Loss: 0.698148\n"
          ],
          "name": "stdout"
        },
        {
          "output_type": "error",
          "ename": "KeyboardInterrupt",
          "evalue": "ignored",
          "traceback": [
            "\u001b[0;31m---------------------------------------------------------------------------\u001b[0m",
            "\u001b[0;31mKeyboardInterrupt\u001b[0m                         Traceback (most recent call last)",
            "\u001b[0;32m<ipython-input-52-8357d5d9696d>\u001b[0m in \u001b[0;36m<module>\u001b[0;34m()\u001b[0m\n\u001b[1;32m     11\u001b[0m         \u001b[0minputs\u001b[0m\u001b[0;34m,\u001b[0m \u001b[0mlabels\u001b[0m \u001b[0;34m=\u001b[0m \u001b[0minputs\u001b[0m\u001b[0;34m,\u001b[0m \u001b[0mlabels\u001b[0m\u001b[0;34m\u001b[0m\u001b[0;34m\u001b[0m\u001b[0m\n\u001b[1;32m     12\u001b[0m         \u001b[0mmodel\u001b[0m\u001b[0;34m.\u001b[0m\u001b[0mzero_grad\u001b[0m\u001b[0;34m(\u001b[0m\u001b[0;34m)\u001b[0m\u001b[0;34m\u001b[0m\u001b[0;34m\u001b[0m\u001b[0m\n\u001b[0;32m---> 13\u001b[0;31m         \u001b[0moutput\u001b[0m \u001b[0;34m=\u001b[0m \u001b[0mmodel\u001b[0m\u001b[0;34m(\u001b[0m\u001b[0minputs\u001b[0m\u001b[0;34m)\u001b[0m\u001b[0;34m\u001b[0m\u001b[0;34m\u001b[0m\u001b[0m\n\u001b[0m\u001b[1;32m     14\u001b[0m         \u001b[0mloss\u001b[0m \u001b[0;34m=\u001b[0m \u001b[0mcriterion\u001b[0m\u001b[0;34m(\u001b[0m\u001b[0moutput\u001b[0m\u001b[0;34m,\u001b[0m \u001b[0mlabels\u001b[0m\u001b[0;34m.\u001b[0m\u001b[0mfloat\u001b[0m\u001b[0;34m(\u001b[0m\u001b[0;34m)\u001b[0m\u001b[0;34m)\u001b[0m\u001b[0;34m\u001b[0m\u001b[0;34m\u001b[0m\u001b[0m\n\u001b[1;32m     15\u001b[0m         \u001b[0mloss\u001b[0m\u001b[0;34m.\u001b[0m\u001b[0mbackward\u001b[0m\u001b[0;34m(\u001b[0m\u001b[0;34m)\u001b[0m\u001b[0;34m\u001b[0m\u001b[0;34m\u001b[0m\u001b[0m\n",
            "\u001b[0;32m/usr/local/lib/python3.6/dist-packages/torch/nn/modules/module.py\u001b[0m in \u001b[0;36m__call__\u001b[0;34m(self, *input, **kwargs)\u001b[0m\n\u001b[1;32m    530\u001b[0m             \u001b[0mresult\u001b[0m \u001b[0;34m=\u001b[0m \u001b[0mself\u001b[0m\u001b[0;34m.\u001b[0m\u001b[0m_slow_forward\u001b[0m\u001b[0;34m(\u001b[0m\u001b[0;34m*\u001b[0m\u001b[0minput\u001b[0m\u001b[0;34m,\u001b[0m \u001b[0;34m**\u001b[0m\u001b[0mkwargs\u001b[0m\u001b[0;34m)\u001b[0m\u001b[0;34m\u001b[0m\u001b[0;34m\u001b[0m\u001b[0m\n\u001b[1;32m    531\u001b[0m         \u001b[0;32melse\u001b[0m\u001b[0;34m:\u001b[0m\u001b[0;34m\u001b[0m\u001b[0;34m\u001b[0m\u001b[0m\n\u001b[0;32m--> 532\u001b[0;31m             \u001b[0mresult\u001b[0m \u001b[0;34m=\u001b[0m \u001b[0mself\u001b[0m\u001b[0;34m.\u001b[0m\u001b[0mforward\u001b[0m\u001b[0;34m(\u001b[0m\u001b[0;34m*\u001b[0m\u001b[0minput\u001b[0m\u001b[0;34m,\u001b[0m \u001b[0;34m**\u001b[0m\u001b[0mkwargs\u001b[0m\u001b[0;34m)\u001b[0m\u001b[0;34m\u001b[0m\u001b[0;34m\u001b[0m\u001b[0m\n\u001b[0m\u001b[1;32m    533\u001b[0m         \u001b[0;32mfor\u001b[0m \u001b[0mhook\u001b[0m \u001b[0;32min\u001b[0m \u001b[0mself\u001b[0m\u001b[0;34m.\u001b[0m\u001b[0m_forward_hooks\u001b[0m\u001b[0;34m.\u001b[0m\u001b[0mvalues\u001b[0m\u001b[0;34m(\u001b[0m\u001b[0;34m)\u001b[0m\u001b[0;34m:\u001b[0m\u001b[0;34m\u001b[0m\u001b[0;34m\u001b[0m\u001b[0m\n\u001b[1;32m    534\u001b[0m             \u001b[0mhook_result\u001b[0m \u001b[0;34m=\u001b[0m \u001b[0mhook\u001b[0m\u001b[0;34m(\u001b[0m\u001b[0mself\u001b[0m\u001b[0;34m,\u001b[0m \u001b[0minput\u001b[0m\u001b[0;34m,\u001b[0m \u001b[0mresult\u001b[0m\u001b[0;34m)\u001b[0m\u001b[0;34m\u001b[0m\u001b[0;34m\u001b[0m\u001b[0m\n",
            "\u001b[0;32m<ipython-input-44-b50050e029df>\u001b[0m in \u001b[0;36mforward\u001b[0;34m(self, text)\u001b[0m\n\u001b[1;32m     15\u001b[0m         \u001b[0membedded\u001b[0m \u001b[0;34m=\u001b[0m \u001b[0mself\u001b[0m\u001b[0;34m.\u001b[0m\u001b[0membedding\u001b[0m\u001b[0;34m(\u001b[0m\u001b[0mtext\u001b[0m\u001b[0;34m)\u001b[0m\u001b[0;34m\u001b[0m\u001b[0;34m\u001b[0m\u001b[0m\n\u001b[1;32m     16\u001b[0m \u001b[0;34m\u001b[0m\u001b[0m\n\u001b[0;32m---> 17\u001b[0;31m         \u001b[0moutput\u001b[0m\u001b[0;34m,\u001b[0m \u001b[0mhidden\u001b[0m \u001b[0;34m=\u001b[0m \u001b[0mself\u001b[0m\u001b[0;34m.\u001b[0m\u001b[0mrnn\u001b[0m\u001b[0;34m(\u001b[0m\u001b[0membedded\u001b[0m\u001b[0;34m)\u001b[0m\u001b[0;34m\u001b[0m\u001b[0;34m\u001b[0m\u001b[0m\n\u001b[0m\u001b[1;32m     18\u001b[0m         \u001b[0moutput\u001b[0m \u001b[0;34m=\u001b[0m \u001b[0moutput\u001b[0m\u001b[0;34m.\u001b[0m\u001b[0mcontiguous\u001b[0m\u001b[0;34m(\u001b[0m\u001b[0;34m)\u001b[0m\u001b[0;34m\u001b[0m\u001b[0;34m\u001b[0m\u001b[0m\n\u001b[1;32m     19\u001b[0m \u001b[0;34m\u001b[0m\u001b[0m\n",
            "\u001b[0;32m/usr/local/lib/python3.6/dist-packages/torch/nn/modules/module.py\u001b[0m in \u001b[0;36m__call__\u001b[0;34m(self, *input, **kwargs)\u001b[0m\n\u001b[1;32m    530\u001b[0m             \u001b[0mresult\u001b[0m \u001b[0;34m=\u001b[0m \u001b[0mself\u001b[0m\u001b[0;34m.\u001b[0m\u001b[0m_slow_forward\u001b[0m\u001b[0;34m(\u001b[0m\u001b[0;34m*\u001b[0m\u001b[0minput\u001b[0m\u001b[0;34m,\u001b[0m \u001b[0;34m**\u001b[0m\u001b[0mkwargs\u001b[0m\u001b[0;34m)\u001b[0m\u001b[0;34m\u001b[0m\u001b[0;34m\u001b[0m\u001b[0m\n\u001b[1;32m    531\u001b[0m         \u001b[0;32melse\u001b[0m\u001b[0;34m:\u001b[0m\u001b[0;34m\u001b[0m\u001b[0;34m\u001b[0m\u001b[0m\n\u001b[0;32m--> 532\u001b[0;31m             \u001b[0mresult\u001b[0m \u001b[0;34m=\u001b[0m \u001b[0mself\u001b[0m\u001b[0;34m.\u001b[0m\u001b[0mforward\u001b[0m\u001b[0;34m(\u001b[0m\u001b[0;34m*\u001b[0m\u001b[0minput\u001b[0m\u001b[0;34m,\u001b[0m \u001b[0;34m**\u001b[0m\u001b[0mkwargs\u001b[0m\u001b[0;34m)\u001b[0m\u001b[0;34m\u001b[0m\u001b[0;34m\u001b[0m\u001b[0m\n\u001b[0m\u001b[1;32m    533\u001b[0m         \u001b[0;32mfor\u001b[0m \u001b[0mhook\u001b[0m \u001b[0;32min\u001b[0m \u001b[0mself\u001b[0m\u001b[0;34m.\u001b[0m\u001b[0m_forward_hooks\u001b[0m\u001b[0;34m.\u001b[0m\u001b[0mvalues\u001b[0m\u001b[0;34m(\u001b[0m\u001b[0;34m)\u001b[0m\u001b[0;34m:\u001b[0m\u001b[0;34m\u001b[0m\u001b[0;34m\u001b[0m\u001b[0m\n\u001b[1;32m    534\u001b[0m             \u001b[0mhook_result\u001b[0m \u001b[0;34m=\u001b[0m \u001b[0mhook\u001b[0m\u001b[0;34m(\u001b[0m\u001b[0mself\u001b[0m\u001b[0;34m,\u001b[0m \u001b[0minput\u001b[0m\u001b[0;34m,\u001b[0m \u001b[0mresult\u001b[0m\u001b[0;34m)\u001b[0m\u001b[0;34m\u001b[0m\u001b[0;34m\u001b[0m\u001b[0m\n",
            "\u001b[0;32m/usr/local/lib/python3.6/dist-packages/torch/nn/modules/rnn.py\u001b[0m in \u001b[0;36mforward\u001b[0;34m(self, input, hx)\u001b[0m\n\u001b[1;32m    215\u001b[0m         \u001b[0;32mif\u001b[0m \u001b[0mbatch_sizes\u001b[0m \u001b[0;32mis\u001b[0m \u001b[0;32mNone\u001b[0m\u001b[0;34m:\u001b[0m\u001b[0;34m\u001b[0m\u001b[0;34m\u001b[0m\u001b[0m\n\u001b[1;32m    216\u001b[0m             result = _impl(input, hx, self._flat_weights, self.bias, self.num_layers,\n\u001b[0;32m--> 217\u001b[0;31m                            self.dropout, self.training, self.bidirectional, self.batch_first)\n\u001b[0m\u001b[1;32m    218\u001b[0m         \u001b[0;32melse\u001b[0m\u001b[0;34m:\u001b[0m\u001b[0;34m\u001b[0m\u001b[0;34m\u001b[0m\u001b[0m\n\u001b[1;32m    219\u001b[0m             result = _impl(input, batch_sizes, hx, self._flat_weights, self.bias,\n",
            "\u001b[0;31mKeyboardInterrupt\u001b[0m: "
          ]
        }
      ]
    },
    {
      "cell_type": "markdown",
      "metadata": {
        "id": "QvcczraCvG8t",
        "colab_type": "text"
      },
      "source": [
        "Оч долго обучается, достаточно. Loss стремный"
      ]
    },
    {
      "cell_type": "code",
      "metadata": {
        "id": "Se8d9OssNgQ_",
        "colab_type": "code",
        "colab": {}
      },
      "source": [
        "test_losses = []\n",
        "num_correct = 0\n",
        "\n",
        "model.eval()\n",
        "for inputs, labels in test_loader:\n",
        "    output = model(inputs)\n",
        "    test_loss = criterion(output.squeeze(), labels.float())\n",
        "    test_losses.append(test_loss.item())\n",
        "    pred = torch.round(output.squeeze()) #rounds the output to 0/1\n",
        "    correct_tensor = pred.eq(labels.float().view_as(pred))\n",
        "    correct = np.squeeze(correct_tensor.cpu().numpy())\n",
        "    num_correct += np.sum(correct)"
      ],
      "execution_count": 0,
      "outputs": []
    },
    {
      "cell_type": "code",
      "metadata": {
        "id": "2xU0LESc4A8E",
        "colab_type": "code",
        "outputId": "fae690a9-1464-49d6-f911-b0d09db530fa",
        "colab": {
          "base_uri": "https://localhost:8080/",
          "height": 71
        }
      },
      "source": [
        "print(\"Test loss: {:.3f}\".format(np.mean(test_losses)))\n",
        "test_acc = num_correct/len(test_loader.dataset)\n",
        "print(\"Test accuracy: {:.3f}%\".format(test_acc*100))"
      ],
      "execution_count": 54,
      "outputs": [
        {
          "output_type": "stream",
          "text": [
            "Test loss: 0.692\n",
            "Test accuracy: 52.490%\n"
          ],
          "name": "stdout"
        }
      ]
    },
    {
      "cell_type": "markdown",
      "metadata": {
        "id": "cJERkLyezyvd",
        "colab_type": "text"
      },
      "source": [
        "Ну, тут чет не весело: 52% точности. Очень не исключено, что я это я где-то промохнулся, хотя я бы не стал доверять RNN, слишком уж они стремные.  "
      ]
    },
    {
      "cell_type": "markdown",
      "metadata": {
        "id": "nQTwe93PD8al",
        "colab_type": "text"
      },
      "source": [
        "## LSTM"
      ]
    },
    {
      "cell_type": "code",
      "metadata": {
        "id": "eMKm4Eslzxhk",
        "colab_type": "code",
        "colab": {}
      },
      "source": [
        "class SentimentNet(nn.Module):\n",
        "    def __init__(self, vocab_size, output_size, embedding_dim, hidden_dim, n_layers, drop_prob=0.5):\n",
        "        super(SentimentNet, self).__init__()\n",
        "        self.output_size = output_size\n",
        "        self.n_layers = n_layers\n",
        "        self.hidden_dim = hidden_dim\n",
        "        \n",
        "        self.embedding = nn.Embedding(vocab_size, embedding_dim)\n",
        "        self.lstm = nn.LSTM(embedding_dim, hidden_dim, n_layers,\n",
        "                            dropout=drop_prob, batch_first=True,\n",
        "                            bidirectional=True)\n",
        "        self.dropout = nn.Dropout(0.5)\n",
        "        self.fc = nn.Linear(hidden_dim*2, output_size)\n",
        "        self.sigmoid = nn.Sigmoid()\n",
        "        \n",
        "    def forward(self, x, hidden):\n",
        "        batch_size = x.size(0)\n",
        "        x = x.long()\n",
        "        embeds = self.embedding(x)\n",
        "        lstm_out, hidden = self.lstm(embeds, hidden)\n",
        "        lstm_out = lstm_out.contiguous().view(-1, self.hidden_dim*2)\n",
        "        \n",
        "        out = self.dropout(lstm_out)\n",
        "        out = self.fc(out)\n",
        "        out = self.sigmoid(out)\n",
        "        \n",
        "        out = out.view(batch_size, -1)\n",
        "        out = out[:,-1]\n",
        "        return out, hidden\n",
        "    \n",
        "    def init_hidden(self, batch_size):\n",
        "        weight = next(self.parameters()).data\n",
        "        hidden = (weight.new(self.n_layers * 2, batch_size, self.hidden_dim).zero_().to(device),\n",
        "                      weight.new(self.n_layers * 2, batch_size, self.hidden_dim).zero_().to(device))\n",
        "        return hidden"
      ],
      "execution_count": 0,
      "outputs": []
    },
    {
      "cell_type": "code",
      "metadata": {
        "id": "XtuwvozyFoBI",
        "colab_type": "code",
        "outputId": "1ae1b732-f506-44c1-e9f8-40fa7fdd92aa",
        "colab": {
          "base_uri": "https://localhost:8080/",
          "height": 170
        }
      },
      "source": [
        "vocab_size = len(word2idx) + 1\n",
        "output_size = 1\n",
        "embedding_dim = 200\n",
        "hidden_dim = 256\n",
        "n_layers = 2\n",
        "\n",
        "model = SentimentNet(vocab_size, output_size, embedding_dim, hidden_dim, n_layers)\n",
        "model.to(device)\n",
        "print(model)\n",
        "print(f'Модель имеет {count_parameters(model):,} параметров')"
      ],
      "execution_count": 56,
      "outputs": [
        {
          "output_type": "stream",
          "text": [
            "SentimentNet(\n",
            "  (embedding): Embedding(51170, 200)\n",
            "  (lstm): LSTM(200, 256, num_layers=2, batch_first=True, dropout=0.5, bidirectional=True)\n",
            "  (dropout): Dropout(p=0.5, inplace=False)\n",
            "  (fc): Linear(in_features=512, out_features=1, bias=True)\n",
            "  (sigmoid): Sigmoid()\n",
            ")\n",
            "Модель имеет 12,749,457 параметров\n"
          ],
          "name": "stdout"
        }
      ]
    },
    {
      "cell_type": "code",
      "metadata": {
        "id": "OXLuS7icF1v5",
        "colab_type": "code",
        "colab": {}
      },
      "source": [
        "lr=0.001\n",
        "criterion = nn.BCELoss()\n",
        "optimizer = torch.optim.Adam(model.parameters(), lr=lr)"
      ],
      "execution_count": 0,
      "outputs": []
    },
    {
      "cell_type": "code",
      "metadata": {
        "id": "9JB95JErF6zm",
        "colab_type": "code",
        "outputId": "0d51578c-dc8f-403e-c0bd-695f057842d8",
        "colab": {
          "base_uri": "https://localhost:8080/",
          "height": 186
        }
      },
      "source": [
        "epochs = 2\n",
        "counter = 0\n",
        "print_every = 500\n",
        "clip = 5\n",
        "valid_loss_min = np.Inf\n",
        "\n",
        "model.train()\n",
        "for i in range(epochs):\n",
        "    h = model.init_hidden(batch_size)\n",
        "    \n",
        "    for inputs, labels in train_loader:\n",
        "        counter += 1\n",
        "        h = tuple([e.data for e in h])\n",
        "        inputs, labels = inputs.to(device), labels.to(device)\n",
        "        model.zero_grad()\n",
        "        output, h = model(inputs, h)\n",
        "        loss = criterion(output.squeeze(), labels.float())\n",
        "        loss.backward()\n",
        "        nn.utils.clip_grad_norm_(model.parameters(), clip)\n",
        "        optimizer.step()\n",
        "        \n",
        "        if counter%print_every == 0:\n",
        "            val_h = model.init_hidden(batch_size)\n",
        "            val_losses = []\n",
        "            model.eval()\n",
        "            for inp, lab in val_loader:\n",
        "                val_h = tuple([each.data for each in val_h])\n",
        "                inp, lab = inp.to(device), lab.to(device)\n",
        "                out, val_h = model(inp, val_h)\n",
        "                val_loss = criterion(out.squeeze(), lab.float())\n",
        "                val_losses.append(val_loss.item())\n",
        "                \n",
        "            model.train()\n",
        "            print(\"Epoch: {}/{}...\".format(i+1, epochs),\n",
        "                  \"Step: {}...\".format(counter),\n",
        "                  \"Loss: {:.6f}...\".format(loss.item()),\n",
        "                  \"Val Loss: {:.6f}\".format(np.mean(val_losses)))"
      ],
      "execution_count": 58,
      "outputs": [
        {
          "output_type": "stream",
          "text": [
            "Epoch: 1/2... Step: 500... Loss: 0.266939... Val Loss: 0.319916\n",
            "Epoch: 1/2... Step: 1000... Loss: 0.179538... Val Loss: 0.232975\n",
            "Epoch: 1/2... Step: 1500... Loss: 0.129894... Val Loss: 0.200912\n",
            "Epoch: 1/2... Step: 2000... Loss: 0.152333... Val Loss: 0.187183\n",
            "Epoch: 2/2... Step: 2500... Loss: 0.129379... Val Loss: 0.175909\n",
            "Epoch: 2/2... Step: 3000... Loss: 0.176354... Val Loss: 0.172896\n",
            "Epoch: 2/2... Step: 3500... Loss: 0.163189... Val Loss: 0.173738\n",
            "Epoch: 2/2... Step: 4000... Loss: 0.112212... Val Loss: 0.166080\n",
            "Epoch: 2/2... Step: 4500... Loss: 0.106493... Val Loss: 0.165175\n"
          ],
          "name": "stdout"
        }
      ]
    },
    {
      "cell_type": "code",
      "metadata": {
        "id": "axyd1Wj3GC1n",
        "colab_type": "code",
        "outputId": "28b61cab-08c4-4a61-a7d2-3cc9a6495752",
        "colab": {
          "base_uri": "https://localhost:8080/",
          "height": 71
        }
      },
      "source": [
        "test_losses = []\n",
        "num_correct = 0\n",
        "h = model.init_hidden(batch_size)\n",
        "\n",
        "model.eval()\n",
        "for inputs, labels in test_loader:\n",
        "    h = tuple([each.data for each in h])\n",
        "    inputs, labels = inputs.to(device), labels.to(device)\n",
        "    output, h = model(inputs, h)\n",
        "    test_loss = criterion(output.squeeze(), labels.float())\n",
        "    test_losses.append(test_loss.item())\n",
        "    pred = torch.round(output.squeeze()) #rounds the output to 0/1\n",
        "    correct_tensor = pred.eq(labels.float().view_as(pred))\n",
        "    correct = np.squeeze(correct_tensor.cpu().numpy())\n",
        "    num_correct += np.sum(correct)\n",
        "        \n",
        "print(\"Test loss: {:.3f}\".format(np.mean(test_losses)))\n",
        "test_acc = num_correct/len(test_loader.dataset)\n",
        "print(\"Test accuracy: {:.3f}%\".format(test_acc*100))"
      ],
      "execution_count": 59,
      "outputs": [
        {
          "output_type": "stream",
          "text": [
            "Test loss: 0.166\n",
            "Test accuracy: 93.392%\n"
          ],
          "name": "stdout"
        }
      ]
    },
    {
      "cell_type": "markdown",
      "metadata": {
        "id": "Hu4rv7vfzHjS",
        "colab_type": "text"
      },
      "source": [
        "Уже лучше"
      ]
    },
    {
      "cell_type": "code",
      "metadata": {
        "id": "FJjsj_oU6OQJ",
        "colab_type": "code",
        "colab": {}
      },
      "source": [
        ""
      ],
      "execution_count": 0,
      "outputs": []
    }
  ]
}